{
 "cells": [
  {
   "cell_type": "code",
   "execution_count": 1,
   "id": "6a45be01",
   "metadata": {},
   "outputs": [],
   "source": [
    "import numpy as np"
   ]
  },
  {
   "cell_type": "code",
   "execution_count": 2,
   "id": "105d3ada",
   "metadata": {},
   "outputs": [],
   "source": [
    "def getSum(n):\n",
    "    s = str(n)\n",
    "    number = list(map(int, s.strip()))\n",
    "    return sum(number)\n",
    "\n",
    "def count_customers(n_customers):\n",
    "    id_list = np.arange(n_customers)\n",
    "    getSum_vec = np.vectorize(getSum)\n",
    "    unique, counts = np.unique(getSum_vec(id_list), return_counts=True)\n",
    "    return np.asarray((unique, counts)).T"
   ]
  },
  {
   "cell_type": "code",
   "execution_count": 3,
   "id": "c9ff814c",
   "metadata": {},
   "outputs": [
    {
     "data": {
      "text/plain": [
       "array([[ 0,  1],\n",
       "       [ 1,  3],\n",
       "       [ 2,  6],\n",
       "       [ 3, 10],\n",
       "       [ 4, 15],\n",
       "       [ 5, 21],\n",
       "       [ 6, 28],\n",
       "       [ 7, 36],\n",
       "       [ 8, 45],\n",
       "       [ 9, 55],\n",
       "       [10, 63],\n",
       "       [11, 69],\n",
       "       [12, 73],\n",
       "       [13, 75],\n",
       "       [14, 75],\n",
       "       [15, 73],\n",
       "       [16, 69],\n",
       "       [17, 63],\n",
       "       [18, 55],\n",
       "       [19, 45],\n",
       "       [20, 36],\n",
       "       [21, 28],\n",
       "       [22, 21],\n",
       "       [23, 15],\n",
       "       [24, 10],\n",
       "       [25,  6],\n",
       "       [26,  3],\n",
       "       [27,  1]])"
      ]
     },
     "execution_count": 3,
     "metadata": {},
     "output_type": "execute_result"
    }
   ],
   "source": [
    "count_customers(1000)"
   ]
  },
  {
   "cell_type": "code",
   "execution_count": 4,
   "id": "9ca701c2",
   "metadata": {},
   "outputs": [],
   "source": [
    "def count_customers2(n_customers, n_first_id=0):\n",
    "    id_list = np.arange(n_first_id, n_first_id + n_customers)\n",
    "    getSum_vec = np.vectorize(getSum)\n",
    "    unique, counts = np.unique(getSum_vec(id_list), return_counts=True)\n",
    "    return np.asarray((unique, counts)).T"
   ]
  },
  {
   "cell_type": "code",
   "execution_count": 5,
   "id": "8618a267",
   "metadata": {},
   "outputs": [
    {
     "data": {
      "text/plain": [
       "array([[ 1,  1],\n",
       "       [ 2,  3],\n",
       "       [ 3,  6],\n",
       "       [ 4, 10],\n",
       "       [ 5, 15],\n",
       "       [ 6, 21],\n",
       "       [ 7, 28],\n",
       "       [ 8, 36],\n",
       "       [ 9, 45],\n",
       "       [10, 55],\n",
       "       [11, 63],\n",
       "       [12, 69],\n",
       "       [13, 73],\n",
       "       [14, 75],\n",
       "       [15, 75],\n",
       "       [16, 73],\n",
       "       [17, 69],\n",
       "       [18, 63],\n",
       "       [19, 55],\n",
       "       [20, 45],\n",
       "       [21, 36],\n",
       "       [22, 28],\n",
       "       [23, 21],\n",
       "       [24, 15],\n",
       "       [25, 10],\n",
       "       [26,  6],\n",
       "       [27,  3],\n",
       "       [28,  1]])"
      ]
     },
     "execution_count": 5,
     "metadata": {},
     "output_type": "execute_result"
    }
   ],
   "source": [
    "count_customers2(1000, 1000)"
   ]
  },
  {
   "cell_type": "code",
   "execution_count": null,
   "id": "860ea874",
   "metadata": {},
   "outputs": [],
   "source": []
  }
 ],
 "metadata": {
  "kernelspec": {
   "display_name": "Python 3 (ipykernel)",
   "language": "python",
   "name": "python3"
  },
  "language_info": {
   "codemirror_mode": {
    "name": "ipython",
    "version": 3
   },
   "file_extension": ".py",
   "mimetype": "text/x-python",
   "name": "python",
   "nbconvert_exporter": "python",
   "pygments_lexer": "ipython3",
   "version": "3.10.6"
  }
 },
 "nbformat": 4,
 "nbformat_minor": 5
}
